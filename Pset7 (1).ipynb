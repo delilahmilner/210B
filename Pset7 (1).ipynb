{
 "cells": [
  {
   "cell_type": "code",
   "execution_count": 13,
   "metadata": {},
   "outputs": [],
   "source": [
    "import numpy as np\n",
    "import matplotlib as plt\n",
    "from datascience import*\n",
    "%matplotlib inline \n",
    "plt.style.use('fast')"
   ]
  },
  {
   "cell_type": "code",
   "execution_count": 14,
   "metadata": {},
   "outputs": [],
   "source": [
    "# cm_1 = omega * 29979245800 (1/sec)\n",
    "# Kb = 1.380649e-23 (J/K)\n",
    "# reduced mass uAB =  is ( ( 18.9984*2.0158) / (18.9984+2.0158) ) amu switch to Kg\n",
    "# h is 6.62607015×10−34 Js\n",
    "# Hbar = 1.054571817×10−34 Js\n",
    "# sqaure angrum to square A2 * 1.0E-20 to m2 for moment of inertia \n",
    "# end multiply 10**6 to get proper units\n",
    "# kcal * 4184 to get J"
   ]
  },
  {
   "cell_type": "code",
   "execution_count": null,
   "metadata": {},
   "outputs": [],
   "source": []
  },
  {
   "cell_type": "code",
   "execution_count": 189,
   "metadata": {},
   "outputs": [],
   "source": [
    "def reaction_rate (T):\n",
    "    h = 6.62607015e-34\n",
    "    uAB = ( ( 18.9984*2.0158) / (18.9984+2.0158) ) * 1.66054e-27\n",
    "    Kb = 1.380649e-23\n",
    "    qtrans_dagger = 1\n",
    "    qtransAB =  (1 / (h**3) ) * (2*np.pi*uAB*Kb*T)**(3/2)\n",
    "    qtrans_factor = qtrans_dagger/qtransAB\n",
    "    omega_daggerE1 = 397.9*29979245800\n",
    "    omega_daggerA1 = 4007.6*29979245800\n",
    "    omega_H2 = 4400*29979245800\n",
    "    hbar = 6.62607015e-34\n",
    "    q_vib_daggerE1 = np.exp( (-hbar*omega_daggerE1) / (2*Kb*T)) / (1 - (np.exp( (-hbar*omega_daggerE1) / (Kb*T))) )\n",
    "    q_vib_daggerA1 = np.exp( (-hbar*omega_daggerA1) / (2*Kb*T)) / (1 - (np.exp( (-hbar*omega_daggerA1) / (Kb*T))) )\n",
    "    q_vib_H2 = np.exp( (-hbar*omega_H2) / (2*Kb*T)) / (1 - (np.exp( (-hbar*omega_H2) / (Kb*T))) )\n",
    "    q_vib_factor = (q_vib_daggerE1*q_vib_daggerE1*q_vib_daggerA1) / (q_vib_H2)\n",
    "    I_dagger = 7.433*1e-20\n",
    "    I_H2 =  0.277*1e-20\n",
    "    sigma_dagger = 1\n",
    "    sigma_H2 = 2\n",
    "    q_rot_dagger = (8 * (np.pi**2) * I_dagger * Kb * T) / (sigma_dagger*h*h)\n",
    "    q_rot_H2 = (8 * (np.pi**2) * I_H2 * Kb * T) / (sigma_H2*h*h)\n",
    "    q_rot_factor = q_rot_dagger/q_rot_H2\n",
    "    delta = 404*29979245800\n",
    "    electronic_factor = 2 /( 4 + (2 * np.exp( -delta / Kb*T ) ) )\n",
    "    E_dagger = 0.9 * 4184 \n",
    "    exponential_factor = np.exp (- E_dagger / (Kb*T*6.022e23) ) \n",
    "    KbTh = Kb*T / h\n",
    "    return q_vib_factor*qtrans_factor*q_rot_factor*0.466*exponential_factor*KbTh*10e5\n"
   ]
  },
  {
   "cell_type": "code",
   "execution_count": 190,
   "metadata": {},
   "outputs": [
    {
     "name": "stdout",
     "output_type": "stream",
     "text": [
      "7.535077796067496e-12\n"
     ]
    }
   ],
   "source": [
    "print(reaction_rate(300))"
   ]
  },
  {
   "cell_type": "code",
   "execution_count": 157,
   "metadata": {},
   "outputs": [
    {
     "data": {
      "text/plain": [
       "7.535077796067496e-12"
      ]
     },
     "execution_count": 157,
     "metadata": {},
     "output_type": "execute_result"
    }
   ],
   "source": [
    "# h2+f reaction rate at 300\n",
    "H2_at_300 = reaction_rate(300)\n",
    "H2_at_300"
   ]
  },
  {
   "cell_type": "code",
   "execution_count": 158,
   "metadata": {},
   "outputs": [],
   "source": [
    "Temperature = np.linspace(200,500,50)"
   ]
  },
  {
   "cell_type": "code",
   "execution_count": 159,
   "metadata": {},
   "outputs": [],
   "source": [
    "InverseTemp = 1/Temperature"
   ]
  },
  {
   "cell_type": "code",
   "execution_count": 160,
   "metadata": {},
   "outputs": [],
   "source": [
    "Rate = []\n",
    "for T in Temperature:\n",
    "    Rate.append(reaction_rate(T))"
   ]
  },
  {
   "cell_type": "code",
   "execution_count": null,
   "metadata": {},
   "outputs": [],
   "source": []
  },
  {
   "cell_type": "code",
   "execution_count": 161,
   "metadata": {},
   "outputs": [],
   "source": [
    "logK = np.log(Rate)"
   ]
  },
  {
   "cell_type": "code",
   "execution_count": 162,
   "metadata": {},
   "outputs": [
    {
     "data": {
      "image/png": "[encoded data removed]",
      "text/plain": [
       "<Figure size 432x288 with 1 Axes>"
      ]
     },
     "metadata": {
      "needs_background": "light"
     },
     "output_type": "display_data"
    }
   ],
   "source": [
    "Table().with_columns(\"1/T\",InverseTemp,\"ln K \", logK).plot(0)"
   ]
  },
  {
   "cell_type": "code",
   "execution_count": 163,
   "metadata": {},
   "outputs": [
    {
     "name": "stdout",
     "output_type": "stream",
     "text": [
      "-810.588829554955\n"
     ]
    }
   ],
   "source": [
    "# calculate slope\n",
    "x = InverseTemp\n",
    "y = logK\n",
    "slope, intercept = np.polyfit(x,y,1)\n",
    "print(slope)"
   ]
  },
  {
   "cell_type": "code",
   "execution_count": 144,
   "metadata": {},
   "outputs": [
    {
     "data": {
      "text/plain": [
       "3765.6"
      ]
     },
     "execution_count": 144,
     "metadata": {},
     "output_type": "execute_result"
    }
   ],
   "source": []
  },
  {
   "cell_type": "code",
   "execution_count": 145,
   "metadata": {},
   "outputs": [
    {
     "data": {
      "text/plain": [
       "6739.235528919897"
      ]
     },
     "execution_count": 145,
     "metadata": {},
     "output_type": "execute_result"
    }
   ],
   "source": [
    "# slope = -Ea/R so to get Ea you do -slope*8.314\n",
    "Ea = -slope*8.314\n",
    "Ea"
   ]
  },
  {
   "cell_type": "code",
   "execution_count": 90,
   "metadata": {},
   "outputs": [],
   "source": []
  },
  {
   "cell_type": "code",
   "execution_count": 166,
   "metadata": {},
   "outputs": [],
   "source": [
    "def reaction_rate_D2 (T):\n",
    "    h = 6.62607015e-34\n",
    "    uAB = ( ( 18.9984*4.0282) / (18.9984+4.0282) ) * 1.66054e-27\n",
    "    Kb = 1.380649e-23\n",
    "    qtrans_dagger = 1\n",
    "    qtransAB =  (1 / (h**3) ) * (2*np.pi*uAB*Kb*T)**(3/2)\n",
    "    qtrans_factor = qtrans_dagger/qtransAB\n",
    "    omega_daggerE1 =  282*29979245800\n",
    "    omega_daggerA1 =  2835.1*29979245800\n",
    "    omega_D2 =  3115.50*29979245800\n",
    "    hbar = 6.62607015e-34\n",
    "    q_vib_daggerE1 = np.exp( (-hbar*omega_daggerE1) / (2*Kb*T)) / (1 - (np.exp( (-hbar*omega_daggerE1) / (Kb*T))) )\n",
    "    q_vib_daggerA1 = np.exp( (-hbar*omega_daggerA1) / (2*Kb*T)) / (1 - (np.exp( (-hbar*omega_daggerA1) / (Kb*T))) )\n",
    "    q_vib_D2 = np.exp( (-hbar*omega_D2) / (2*Kb*T)) / (1 - (np.exp( (-hbar*omega_D2) / (Kb*T))) )\n",
    "    q_vib_factor = (q_vib_daggerE1*q_vib_daggerE1*q_vib_daggerA1) / (q_vib_D2)\n",
    "    I_dagger = 13.606*1e-20\n",
    "    I_D2 =  0.554*1e-20\n",
    "    sigma_dagger = 1\n",
    "    sigma_D2 = 2\n",
    "    q_rot_dagger = (8 * (np.pi**2) * I_dagger * Kb * T) / (sigma_dagger*h*h)\n",
    "    q_rot_D2 = (8 * (np.pi**2) * I_D2 * Kb * T) / (sigma_D2*h*h)\n",
    "    q_rot_factor = q_rot_dagger/q_rot_D2\n",
    "    delta = 404*29979245800\n",
    "    electronic_factor = 2 /( 4 + (2 * np.exp( -delta / Kb*T ) ) )\n",
    "    E_dagger = 0.9 * 4184 \n",
    "    exponential_factor = np.exp (- E_dagger / (Kb*T*6.022e23) ) \n",
    "    KbTh = Kb*T / h\n",
    "    return q_vib_factor*qtrans_factor*q_rot_factor*0.466*exponential_factor*KbTh*10e5"
   ]
  },
  {
   "cell_type": "code",
   "execution_count": 167,
   "metadata": {},
   "outputs": [
    {
     "data": {
      "text/plain": [
       "4.9250252451660794e-12"
      ]
     },
     "execution_count": 167,
     "metadata": {},
     "output_type": "execute_result"
    }
   ],
   "source": [
    "D2_at_300 = reaction_rate_D2(300)\n",
    "D2_at_300"
   ]
  },
  {
   "cell_type": "code",
   "execution_count": 168,
   "metadata": {},
   "outputs": [
    {
     "data": {
      "text/plain": [
       "1.5299571922932145"
      ]
     },
     "execution_count": 168,
     "metadata": {},
     "output_type": "execute_result"
    }
   ],
   "source": [
    "# ratio\n",
    "# H2/D2\n",
    "H2_D2 = H2_at_300/D2_at_300\n",
    "H2_D2"
   ]
  },
  {
   "cell_type": "code",
   "execution_count": null,
   "metadata": {},
   "outputs": [],
   "source": []
  },
  {
   "cell_type": "code",
   "execution_count": null,
   "metadata": {},
   "outputs": [],
   "source": []
  },
  {
   "cell_type": "code",
   "execution_count": null,
   "metadata": {},
   "outputs": [],
   "source": []
  },
  {
   "cell_type": "code",
   "execution_count": null,
   "metadata": {},
   "outputs": [],
   "source": []
  }
 ],
 "metadata": {
  "kernelspec": {
   "display_name": "Python 3 (ipykernel)",
   "language": "python",
   "name": "python3"
  },
  "language_info": {
   "codemirror_mode": {
    "name": "ipython",
    "version": 3
   },
   "file_extension": ".py",
   "mimetype": "text/x-python",
   "name": "python",
   "nbconvert_exporter": "python",
   "pygments_lexer": "ipython3",
   "version": "3.10.11"
  }
 },
 "nbformat": 4,
 "nbformat_minor": 2
}
