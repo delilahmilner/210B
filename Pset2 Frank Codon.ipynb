{
 "cells": [
  {
   "cell_type": "code",
   "execution_count": 1,
   "metadata": {},
   "outputs": [],
   "source": [
    "import numpy as np\n",
    "from datascience import *\n",
    "import matplotlib.pyplot as plt\n",
    "%matplotlib inline\n",
    "plt.style.use('fast')\n",
    "import math"
   ]
  },
  {
   "cell_type": "code",
   "execution_count": 2,
   "metadata": {},
   "outputs": [],
   "source": [
    "a = 0.5\n",
    "omega = 1733/219474.63068\n",
    "mass = (14.003*1822.89/2)\n",
    "hbar = 1\n",
    "alpha = np.sqrt(mass*omega/hbar)"
   ]
  },
  {
   "cell_type": "code",
   "execution_count": 3,
   "metadata": {},
   "outputs": [
    {
     "data": {
      "text/plain": [
       "10.03882528186002"
      ]
     },
     "execution_count": 3,
     "metadata": {},
     "output_type": "execute_result"
    }
   ],
   "source": [
    "alpha"
   ]
  },
  {
   "cell_type": "code",
   "execution_count": 4,
   "metadata": {},
   "outputs": [],
   "source": [
    "# math.factorial will not let me plot past 20, sorry"
   ]
  },
  {
   "cell_type": "code",
   "execution_count": 5,
   "metadata": {},
   "outputs": [],
   "source": [
    "n_values = np.arange(0,21,1)\n",
    "An2 = []\n",
    "for n in n_values:\n",
    "    Integral = np.power((alpha*a),n) \n",
    "    alpha2 = np.power(alpha,2)\n",
    "    a2 = np.power(a,2)\n",
    "    expo = a2*alpha2 /4\n",
    "    exponential = np.exp( (-1*expo ) )\n",
    "    N_2 = np.power(2,(n/2))\n",
    "    fact = math.factorial(n)\n",
    "    Nn =  ( N_2 * np.sqrt(fact))\n",
    "    An = np.power (( (Integral * (exponential)) / Nn),2)\n",
    "    An2.append(An)"
   ]
  },
  {
   "cell_type": "code",
   "execution_count": 6,
   "metadata": {},
   "outputs": [
    {
     "data": {
      "image/png": "[encoded data removed]",
      "text/plain": [
       "<Figure size 432x288 with 1 Axes>"
      ]
     },
     "metadata": {
      "needs_background": "light"
     },
     "output_type": "display_data"
    }
   ],
   "source": [
    "Table().with_columns(\"n\",n_values,\"Frank_codon_factors\", An2).plot(0)"
   ]
  },
  {
   "cell_type": "code",
   "execution_count": 7,
   "metadata": {},
   "outputs": [
    {
     "data": {
      "text/plain": [
       "0.9813616261541609"
      ]
     },
     "execution_count": 7,
     "metadata": {},
     "output_type": "execute_result"
    }
   ],
   "source": [
    "sum(An2)"
   ]
  },
  {
   "cell_type": "code",
   "execution_count": 8,
   "metadata": {},
   "outputs": [
    {
     "data": {
      "text/plain": [
       "[3.3812955267671656e-06,\n",
       " 4.2595030585957616e-05,\n",
       " 0.0002682901592386603,\n",
       " 0.0011265728819241714,\n",
       " 0.003547930518273125,\n",
       " 0.008938834700863017,\n",
       " 0.01876745833423755,\n",
       " 0.0337740564416079,\n",
       " 0.05318253594494263,\n",
       " 0.07443930973533854,\n",
       " 0.09377307158968884,\n",
       " 0.10738936172090338,\n",
       " 0.11273423433162022,\n",
       " 0.10924165516821115,\n",
       " 0.09829604418769379,\n",
       " 0.08255066685749583,\n",
       " 0.06499447016407522,\n",
       " 0.04816186442429663,\n",
       " 0.0337059513956153,\n",
       " 0.022347492166205365,\n",
       " 0.014075849105816904]"
      ]
     },
     "execution_count": 8,
     "metadata": {},
     "output_type": "execute_result"
    }
   ],
   "source": [
    "An2"
   ]
  },
  {
   "cell_type": "code",
   "execution_count": null,
   "metadata": {},
   "outputs": [],
   "source": []
  },
  {
   "cell_type": "code",
   "execution_count": null,
   "metadata": {},
   "outputs": [],
   "source": []
  },
  {
   "cell_type": "code",
   "execution_count": null,
   "metadata": {},
   "outputs": [],
   "source": []
  },
  {
   "cell_type": "code",
   "execution_count": null,
   "metadata": {},
   "outputs": [],
   "source": []
  }
 ],
 "metadata": {
  "kernelspec": {
   "display_name": "Python 3 (ipykernel)",
   "language": "python",
   "name": "python3"
  },
  "language_info": {
   "codemirror_mode": {
    "name": "ipython",
    "version": 3
   },
   "file_extension": ".py",
   "mimetype": "text/x-python",
   "name": "python",
   "nbconvert_exporter": "python",
   "pygments_lexer": "ipython3",
   "version": "3.10.11"
  }
 },
 "nbformat": 4,
 "nbformat_minor": 2
}
