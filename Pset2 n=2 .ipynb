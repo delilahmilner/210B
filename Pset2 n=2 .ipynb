{
 "cells": [
  {
   "cell_type": "code",
   "execution_count": null,
   "metadata": {},
   "outputs": [],
   "source": [
    "\n",
    "\n",
    "\n",
    "\n",
    "#   in number 1 part a it asks us to make the graphs for n=2 at the bottom is the difference\n",
    "#    between the exact values and the estimated values\n",
    "#\n",
    "#\n",
    "\n",
    "\n"
   ]
  },
  {
   "cell_type": "code",
   "execution_count": 2,
   "metadata": {},
   "outputs": [
    {
     "name": "stdout",
     "output_type": "stream",
     "text": [
      "The current working directory is C:\\Users\\Delilahs PC\\Downloads\n",
      "Directory for wave function plots already exists C:\\Users\\Delilahs PC\\Downloads/Plot_Output\n",
      "The current working directory is C:\\Users\\Delilahs PC\\Downloads\n",
      "Directory for output .dat files  already exists C:\\Users\\Delilahs PC\\Downloads/Plot_Output\n",
      "\n",
      "From FEM_DVR_build: building grid and KE with Gauss Lobatto quadrature of order  10\n",
      "element  1  xmin =  -1.0  xmax =  -0.5\n",
      "element  2  xmin =  -0.5  xmax =  0.0\n",
      "element  3  xmin =  0.0  xmax =  0.5\n",
      "element  4  xmin =  0.5  xmax =  1.0\n",
      "\n",
      "FEM-DVR basis of  35  functions\n",
      "Finished reading file with potential  with  25  rows and  2  columns\n"
     ]
    }
   ],
   "source": [
    "#%%\n",
    "\"\"\"         Chem 210A/B --  C.W. McCurdy -- January 2021\n",
    "   \n",
    " Read a file with potential curve values and find bound states \n",
    "              for particle with specified mass\n",
    "\n",
    " Finite Element Method - Discrete Variable Representation (FEM-DVR) \n",
    " for 1D Schroedinger equation using Gauss-Lobatto quadrature in each finite element\n",
    " Uses class DVRHelper() to construct FEM-DVR points, weights and Kinetic Energy\n",
    "\n",
    " Shows how to \n",
    "   (1) Read in and interpolate a potential function known at discrete points\n",
    "       using cubic spline interpretation\n",
    "   (2) Use DVRHelper class to build FEM-DVR grid\n",
    "   (3) Use DVRHelper class to build Hamiltonian in DVR basis\n",
    "   (4) Find eigenvalues and eigenvectors of Hamiltonian\n",
    "   (5) Plot eigenfunctions of the Hamiltonian\n",
    "\n",
    " Example: Harmonic Oscillator with potential specified at 25 points in x\n",
    "          on the interval -5 bohr to + 5 bohr.   Solved using a mass of an \n",
    "          H atom using a DVR on -2 to 2 bohr.\n",
    "\n",
    " Student Exercise: \n",
    "          H2 vibrational states using CI singles and doubles potential curve\n",
    "          from Psi4 provided at 500 input points.\n",
    "          This potential yields a n = 0 -> 1 excitation energy \n",
    "          within a few wavenumbers of the value using the NIST values for\n",
    "          constants of diatomic molecules for H2 in the formula\n",
    "           E_n = (n+1/2)we - (n+1/2)^2 wexe, which is 4158 cm^-1\n",
    "\n",
    "\"\"\"\n",
    "#%%\n",
    "# preliminaries to invoke SciPy linear algebra functions \n",
    "from scipy import linalg as LA\n",
    "# and NumPy which is used to define pi, sqrt, array, .transpose etc. as np\n",
    "import numpy as np\n",
    "from scipy.interpolate import CubicSpline  \n",
    "import matplotlib.pyplot as plt  # import matplotlib pyplot functions\n",
    "from matplotlib import animation  # for animation from same class library\n",
    "import os  # functions to manipulate files and directories\n",
    "from DVR.DVRHelper import DVRHelper  # contains Barbalinardo/McCurdy FEM-DVR and Crank Nicolson functions\n",
    "import time as timeclock  # for timing parts of the calculation during debugging\n",
    "#\n",
    "#============== Make Directory for Plots if it's not there already ==========\n",
    "#  \n",
    "# detect the current working directory and print it\n",
    "path = os.getcwd()  \n",
    "print (\"The current working directory is %s\" % path)  \n",
    "# define the name of the directory to be created\n",
    "Plot_Output = path+'/Plot_Output'\n",
    "if os.path.exists(Plot_Output):\n",
    "    print(\"Directory for wave function plots already exists\",Plot_Output)\n",
    "else:\n",
    "    print(\"Attempting to create directory for wave function plots \",Plot_Output)\n",
    "    try:  \n",
    "        os.mkdir(Plot_Output)\n",
    "    except OSError:  \n",
    "        print (\"Creation of the directory %s failed\" % Plot_Output)\n",
    "    else:  \n",
    "        print (\"Successfully created the directory %s \" % Plot_Output)\n",
    "#\n",
    "#=== Make Directory for for the .dat output  if it's not there already ======\n",
    "#  \n",
    "# detect the current working directory and print it\n",
    "path = os.getcwd()  \n",
    "print (\"The current working directory is %s\" % path)  \n",
    "# define the name of the directory to be created\n",
    "Data_Output = path+'/Data_Output'\n",
    "if os.path.exists(Data_Output):\n",
    "    print(\"Directory for output .dat files  already exists\",Plot_Output)\n",
    "else:\n",
    "    print(\"Attempting to create directory for .dat output files  \",Plot_Output)\n",
    "    try:  \n",
    "        os.mkdir(Data_Output)\n",
    "    except OSError:  \n",
    "        print (\"Creation of the directory %s failed\" % Data_Output)\n",
    "    else:  \n",
    "        print (\"Successfully created the directory %s \" % Data_Output)\n",
    "# ===================================================================\n",
    "wfcn_plotfile=open(\"Data_Output/wavefunctions.dat\",\"w\") # data file for saving wavefunctions\n",
    "#\n",
    "#=============Constants and conversion factors ==============\n",
    "Daltons_to_eMass = 1822.89\n",
    "bohr_to_Angstrom = 0.529177\n",
    "Hartree_to_eV = 27.211386245988 # NIST ref\n",
    "eV_to_wavennumber = 8065.54393734921 # NIST ref on constants + conversions \n",
    "Hartree_to_wavenumber = 2.1947463136320e5    # value from NIST ref on constants + conversions\n",
    "atu_to_fs = 24.18884326509/1000\n",
    "HartreeToKelvin = 315773;\n",
    "#\n",
    "#=====================================FEM_DVR===================================\n",
    "#  Set up the FEM DVR grid given only the Finite Element boundaries and order\n",
    "#  of Gauss Lobatto quadrature,  and compute the Kinetic Energy matrix for \n",
    "#  this FEM DVR for Mass = mass set in call (atomic units).\n",
    "#\n",
    "# Here is where the reduced mass (or mass for any 1D problem) is set \n",
    "#He_Mass = 4.0026 \n",
    "#O_Mass =  15.99491461957 # O 16 mass from NIST tables\n",
    "H_Mass = 1.007825032 #H atom atomic mass\n",
    "mu = H_Mass*Daltons_to_eMass # Convert mass to atomic units (mass of the electron)\n",
    "n_order = 10   # order of the DVR in each finite element is set here\n",
    "               # routines work for quadrature orders up to at least 150\n",
    "FEM_boundaries = [-1.0,-0.50,0.0,0.50,1.0]\n",
    "dvr = DVRHelper(n_order, FEM_boundaries,Mass=mu)\n",
    "print(\"\\nFEM-DVR basis of \", dvr.nbas, \" functions\")\n",
    "#\n",
    "#   Function to define potential at x and t (if potential is time-dependent)\n",
    "#   DVRHelper class library expects function for V(x,t) in general\n",
    "#\n",
    "# =================================Potential=====================================\n",
    "#  Read in files with points for potential curve in hartrees\n",
    "#  and load in arrays for interpolation\n",
    "#\n",
    "file_name_X_state = open('HO_pot.dat','r')\n",
    "data = np.loadtxt(file_name_X_state)  # load a blank separated file\n",
    "# Commented logic to load a comma separated file\n",
    "# delimiter can be \",\" for a .csv file. If \" \" it is sensitive to number of spaces\n",
    "#data = np.loadtxt(file_name_X_state, delimiter=\", \")\n",
    "pot_len_X_state = data.shape[0]\n",
    "pot_columns = data.shape[1]\n",
    "print(\"Finished reading file with potential  with \",pot_len_X_state,\" rows and \",pot_columns,\" columns\")\n",
    "r_vals_X_state=np.empty(pot_len_X_state)\n",
    "V_vals_X_state=np.empty(pot_len_X_state)\n",
    "for i in range(0,pot_len_X_state):\n",
    "    r_vals_X_state[i] = data[i,0]\n",
    "    V_vals_X_state[i] = data[i,1]\n",
    "#    print(r_vals_X_state[i],\" \",V_vals_X_state[i])\n",
    "#\n",
    "#   Set up the CubicSpline interpolation from the scipy.interpolate library\n",
    "#\n",
    "Potential_interpolated = CubicSpline(r_vals_X_state,V_vals_X_state)\n",
    "n_vals_pot = r_vals_X_state.shape[0]\n",
    "#\n",
    "#  This is function passed to DVRHelper\n",
    "def V_X_state(r,time):\n",
    "    #\n",
    "    # Returns interpolated value of potential after checking\n",
    "    # that r is in the range of the input data \n",
    "    #\n",
    "    if(r >= r_vals_X_state[0] and r <= r_vals_X_state[n_vals_pot-1]):\n",
    "         pot = Potential_interpolated(r)\n",
    "    else:\n",
    "        print(\"Failed in V_X_state with argument out of range of input data\",r)\n",
    "        exit()\n",
    "#   return interpolated value\n",
    "    return pot\n",
    "# vectorized version of potential routine to be used in calls to Hamiltonian \n",
    "# speeds up time-dependent calculations where it is called many times\n",
    "vectorized_V_X_state = np.vectorize(V_X_state)\n",
    "#"
   ]
  },
  {
   "cell_type": "code",
   "execution_count": 3,
   "metadata": {},
   "outputs": [
    {
     "name": "stdout",
     "output_type": "stream",
     "text": [
      "\n",
      " Plot potential \n",
      "\n",
      " Running from terminal, close figure window to proceed and make .pdf file of figure\n"
     ]
    },
    {
     "data": {
      "image/png": "[encoded data removed]",
      "text/plain": [
       "<Figure size 432x288 with 1 Axes>"
      ]
     },
     "metadata": {
      "needs_background": "light"
     },
     "output_type": "display_data"
    },
    {
     "name": "stdout",
     "output_type": "stream",
     "text": [
      "\n",
      " Completed construction of Hamiltonian \n"
     ]
    }
   ],
   "source": [
    "#===========================================================================================\n",
    "#  Plot potential on the DVR grid points on which the wavefunction is defined\n",
    "#  and ALSO the interpolation to check we are using the potential that we mean to.\n",
    "#\n",
    "print(\"\\n Plot potential \")\n",
    "x_Plot = []\n",
    "pot_Plot = []\n",
    "for j in range(0,n_vals_pot):\n",
    "    x_Plot.append(r_vals_X_state[j])\n",
    "    pot_Plot.append( V_vals_X_state[j])\n",
    "plt.suptitle('V(r) interpolation', fontsize=14, fontweight='bold')\n",
    "string=\"V input points\"\n",
    "plt.plot(x_Plot,pot_Plot,'ro',label=string)\n",
    "#\n",
    "x_Plot = []\n",
    "pot_Plot = []\n",
    "Number_plot_points = 1000\n",
    "dx = (dvr.x_pts[dvr.nbas-1] - dvr.x_pts[0])/float(Number_plot_points-1)\n",
    "time = 0.0 # dummy time in general call to potential function\n",
    "for j in range(0,Number_plot_points):\n",
    "    x= dvr.x_pts[0] + j*dx\n",
    "    x_Plot.append(x)\n",
    "    pot_Plot.append(vectorized_V_X_state(x,time))\n",
    "plt.plot(x_Plot,pot_Plot,'-b',label=\"Interpolation on DVR grid range\")\n",
    "plt.legend(loc=\"best\")\n",
    "plt.xlabel(\" x \", fontsize=14)\n",
    "plt.ylabel(\"V\", fontsize=14)\n",
    "print(\"\\n Running from terminal, close figure window to proceed and make .pdf file of figure\")\n",
    "#   Insert limits if necessary\n",
    "#xmax = float(rmax)  # CWM: need to use float() to get plt.xlim to work to set x limits\n",
    "#plt.xlim([0,xmax])\n",
    "#number_string = str(a)\n",
    "plt.savefig('Plot_Output/' + 'Plot_potential' + '.pdf', transparent=False)\n",
    "plt.show()\n",
    "#\n",
    "#\n",
    "# =============Build Hamiltonian (using general routine with dummy time t=0)=========\n",
    "#     Pass name of potential function explicitly here\n",
    "time = 0.0\n",
    "H_mat = dvr.Hamiltonian(vectorized_V_X_state, time)\n",
    "print(\"\\n Completed construction of Hamiltonian \")"
   ]
  },
  {
   "cell_type": "code",
   "execution_count": 4,
   "metadata": {},
   "outputs": [
    {
     "name": "stdout",
     "output_type": "stream",
     "text": [
      "\n",
      "            Lowest  30    Eigenvalues of the DVR Hamiltonian \n",
      "\n",
      "E(  0 ) =    0.007084360891317871  hartrees, excitation energy =  0.0  cm^-1\n",
      "E(  1 ) =    0.021253082784699305  hartrees, excitation energy =  3109.675014437591  cm^-1\n",
      "E(  2 ) =    0.03542180196166095  hartrees, excitation energy =  6219.34943268995  cm^-1\n",
      "E(  3 ) =    0.04959055566371834  hartrees, excitation energy =  9329.031428324972  cm^-1\n",
      "E(  4 ) =    0.06375920314918633  hartrees, excitation energy =  12438.690112113189  cm^-1\n",
      "E(  5 ) =    0.07792897024870564  hartrees, excitation energy =  15548.59452278259  cm^-1\n",
      "E(  6 ) =    0.09210000567145121  hartrees, excitation energy =  18658.777298224526  cm^-1\n",
      "E(  7 ) =    0.10628722484899542  hartrees, excitation energy =  21772.51199728496  cm^-1\n",
      "E(  8 ) =    0.12052679980877293  hartrees, excitation energy =  24897.737462350782  cm^-1\n",
      "E(  9 ) =    0.13489662382123355  hartrees, excitation energy =  28051.549290239636  cm^-1\n",
      "E(  10 ) =    0.14968504302209143  hartrees, excitation energy =  31297.23214279239  cm^-1\n",
      "E(  11 ) =    0.1649120039119989  hartrees, excitation energy =  34639.16377088669  cm^-1\n",
      "E(  12 ) =    0.18145884971567164  hartrees, excitation energy =  38270.77665387148  cm^-1\n",
      "E(  13 ) =    0.19862413056864198  hartrees, excitation energy =  42038.120341322945  cm^-1\n",
      "E(  14 ) =    0.21731797883412993  hartrees, excitation energy =  46140.945798150504  cm^-1\n",
      "E(  15 ) =    0.23855209761623614  hartrees, excitation energy =  50801.296190175664  cm^-1\n",
      "E(  16 ) =    0.2565953543979916  hartrees, excitation energy =  54761.333320943  cm^-1\n",
      "E(  17 ) =    0.2862874706904298  hartrees, excitation energy =  61277.99959861915  cm^-1\n",
      "E(  18 ) =    0.30243195491167824  hartrees, excitation energy =  64821.304321626645  cm^-1\n",
      "E(  19 ) =    0.3249921726921018  hartrees, excitation energy =  69772.6998024586  cm^-1\n",
      "E(  20 ) =    0.36313357233865345  hartrees, excitation energy =  78143.76942956203  cm^-1\n",
      "E(  21 ) =    0.36955942207708636  hartrees, excitation energy =  79554.0804320999  cm^-1\n",
      "E(  22 ) =    0.4580030768778614  hartrees, excitation energy =  98965.21896591411  cm^-1\n",
      "E(  23 ) =    0.4594164084082469  hartrees, excitation energy =  99275.40938253945  cm^-1\n",
      "E(  24 ) =    0.4794776811924913  hartrees, excitation energy =  103678.3498315381  cm^-1\n",
      "E(  25 ) =    0.5302723110310882  hartrees, excitation energy =  114826.48249059434  cm^-1\n",
      "E(  26 ) =    0.5320458974819183  hartrees, excitation energy =  115215.73972308105  cm^-1\n",
      "E(  27 ) =    0.9643467178896918  hartrees, excitation energy =  210094.80292008608  cm^-1\n",
      "E(  28 ) =    1.0109249655847263  hartrees, excitation energy =  220317.5466624976  cm^-1\n",
      "E(  29 ) =    1.0115307738575885  hartrees, excitation energy =  220450.50620986082  cm^-1\n",
      "Calculating  30  eigenvectors for plotting eigenfunctions\n",
      "Norm of wave function being plotted is  0.9999999999999999\n",
      "\n",
      " Plot wave function  2  (numbered in order of increasing energy)\n",
      "\n",
      " Running from terminal, close figure window to proceed and make .pdf file of figure\n"
     ]
    },
    {
     "data": {
      "image/png": "[encoded data removed]",
      "text/plain": [
       "<Figure size 432x288 with 1 Axes>"
      ]
     },
     "metadata": {
      "needs_background": "light"
     },
     "output_type": "display_data"
    },
    {
     "name": "stdout",
     "output_type": "stream",
     "text": [
      "\n",
      " Average value of r using DVR for the integral, <r> =  -3.8111765459428406e-15\n",
      "\n",
      " Running from terminal, close figure window to proceed and make .pdf file of figure\n"
     ]
    },
    {
     "data": {
      "image/png": "[encoded data removed]",
      "text/plain": [
       "<Figure size 432x288 with 1 Axes>"
      ]
     },
     "metadata": {
      "needs_background": "light"
     },
     "output_type": "display_data"
    }
   ],
   "source": [
    "#====================================================================================\n",
    "#\n",
    "# Find all the eigenvalues of the Hamiltonian so we can compare with known bound state energies\n",
    "# or make a plot of the spectrum -- For a time-independent Hamiltonian example here\n",
    "#\n",
    "EigenVals = LA.eigvalsh(H_mat)\n",
    "#\n",
    "n_energy = 30 \n",
    "print(\"\\n            Lowest \", n_energy,\"   Eigenvalues of the DVR Hamiltonian \\n\")\n",
    "for  i in range(0,n_energy):\n",
    "     print(\"E( \",i,\") =   \",EigenVals[i],\" hartrees, excitation energy = \",(EigenVals[i]-EigenVals[0])* Hartree_to_wavenumber,\" cm^-1\")\n",
    "#====================================================================================\n",
    "#\n",
    "# Extract the n_Plot'th eigenfunction for plotting and use as initial wave function\n",
    "# to test propagation\n",
    "#\n",
    "number_of_eigenvectors = n_energy \n",
    "#\n",
    "#  Here n_Plot picks which eigenfunction to plot\n",
    "n_Plot = 2  # pick a state of this potential to plot < number_of_eigenvectors -1\n",
    "#\n",
    "print(\"Calculating \",number_of_eigenvectors,\" eigenvectors for plotting eigenfunctions\")\n",
    "EigenVals, EigenVecs  = LA.eigh(H_mat,eigvals=(0,number_of_eigenvectors))\n",
    "wfcnPlot = []\n",
    "for j in range(0,dvr.nbas):\n",
    "    wfcnPlot.append(EigenVecs[j,n_Plot])\n",
    "#\n",
    "# normalize  wave function from diagonalization\n",
    "#\n",
    "norm_squared = 0.\n",
    "for j in range(0,dvr.nbas):\n",
    "    norm_squared = norm_squared + np.abs(wfcnPlot[j])**2    \n",
    "wfcnPlot = wfcnPlot/np.sqrt(norm_squared)\n",
    "norm_squared = 0.\n",
    "for j in range(0,dvr.nbas):\n",
    "    norm_squared = norm_squared + np.abs(wfcnPlot[j])**2    \n",
    "print(\"Norm of wave function being plotted is \", np.sqrt(norm_squared))\n",
    "#\n",
    "#================# Plot the  wave function specified by n_Plot above======================\n",
    "#   It must be type np.complex for this general wave function plotting logic\n",
    "#\n",
    "Cinitial  = np.zeros((dvr.nbas), dtype=complex) \n",
    "wfcnInitialPlot  = np.zeros((dvr.nbas), dtype=complex) \n",
    "for j in range(0,dvr.nbas):\n",
    "   Cinitial[j] = wfcnPlot[j]\n",
    "#\n",
    "print(\"\\n Plot wave function \",n_Plot,\" (numbered in order of increasing energy)\")\n",
    "title = 'Wavefunction'+str(n_Plot)\n",
    "#  note that the dvr.Plot_Psi function makes a .pdf file in the Plot_Output directory\n",
    "#  That's what make_plot=True controls.  \n",
    "x_Plot_array, Psi_plot_array = dvr.Plot_Psi(Cinitial, plot_title_string=title,N_plot_points=Number_plot_points,make_plot=True)\n",
    "# write the data in file also\n",
    "for j in range(0,Number_plot_points):\n",
    "    print(x_Plot_array[j],\"  \",np.real(Psi_plot_array[j]),\"  \",np.imag(Psi_plot_array[j]),file=wfcn_plotfile)\n",
    "print(\"&  \\n \",file=wfcn_plotfile)\n",
    "#\n",
    "# plot square of wave function (radial probability distribution)\n",
    "#\n",
    "Csquared=np.zeros(dvr.nbas,dtype=complex)\n",
    "raverage = 0.0\n",
    "for i in range(dvr.nbas):\n",
    "   Csquared[i] = np.abs(Cinitial[i])**2 / np.sqrt(dvr.w_pts[i+1])\n",
    "#   compute <r> for this wave function\n",
    "#   note that Cinitial[i] contains the necessary weight, sqrt(dvr.w_pts[i+1])\n",
    "   raverage = raverage + np.abs(Cinitial[i])**2 *dvr.x_pts[i+1]\n",
    "print(\"\\n Average value of r using DVR for the integral, <r> = \",raverage)\n",
    "title = 'Wavefunction'+str(n_Plot)+\"^2\"\n",
    "#  note that the dvr.Plot_Psi function makes a .pdf file in the Plot_Output directory\n",
    "#  That's what make_plot=True controls.  \n",
    "x_Plot_array, Psi_plot_array = dvr.Plot_Psi(Csquared, plot_title_string=title,N_plot_points=Number_plot_points,make_plot=True)\n",
    "# write the data in file also\n",
    "for j in range(0,Number_plot_points):\n",
    "    print(x_Plot_array[j],\"  \",np.real(Psi_plot_array[j]),\"  \",np.imag(Psi_plot_array[j]),file=wfcn_plotfile)\n",
    "print(\"&  \\n \",file=wfcn_plotfile)\n",
    "#\n",
    "#exit()"
   ]
  },
  {
   "cell_type": "code",
   "execution_count": 26,
   "metadata": {},
   "outputs": [],
   "source": [
    "mass = (1*1822.89)\n",
    "omega = np.sqrt(0.36881361766800008/mass)\n",
    "hbar = 1"
   ]
  },
  {
   "cell_type": "code",
   "execution_count": 27,
   "metadata": {},
   "outputs": [],
   "source": [
    "Ev_exact = (2.5)*hbar*omega"
   ]
  },
  {
   "cell_type": "code",
   "execution_count": 28,
   "metadata": {},
   "outputs": [
    {
     "data": {
      "text/plain": [
       "0.03556012275231627"
      ]
     },
     "execution_count": 28,
     "metadata": {},
     "output_type": "execute_result"
    }
   ],
   "source": [
    "Ev_exact"
   ]
  },
  {
   "cell_type": "code",
   "execution_count": 29,
   "metadata": {},
   "outputs": [
    {
     "data": {
      "text/plain": [
       "0.00013832079065532327"
      ]
     },
     "execution_count": 29,
     "metadata": {},
     "output_type": "execute_result"
    }
   ],
   "source": [
    "# this is the difference between the estimated and the exact. They are very similar\n",
    "difference = Ev_exact - 0.03542180196166095\n",
    "difference"
   ]
  },
  {
   "cell_type": "code",
   "execution_count": null,
   "metadata": {},
   "outputs": [],
   "source": [
    "exit()"
   ]
  }
 ],
 "metadata": {
  "kernelspec": {
   "display_name": "Python 3 (ipykernel)",
   "language": "python",
   "name": "python3"
  },
  "language_info": {
   "codemirror_mode": {
    "name": "ipython",
    "version": 3
   },
   "file_extension": ".py",
   "mimetype": "text/x-python",
   "name": "python",
   "nbconvert_exporter": "python",
   "pygments_lexer": "ipython3",
   "version": "3.10.11"
  }
 },
 "nbformat": 4,
 "nbformat_minor": 2
}
